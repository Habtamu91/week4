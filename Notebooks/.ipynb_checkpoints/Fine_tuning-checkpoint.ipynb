{
 "cells": [
  {
   "cell_type": "markdown",
   "id": "99391969-0fa0-465d-ac75-6456135eb46a",
   "metadata": {},
   "source": [
    "# Fine-Tuning for Amharic Named Entity Recognition (NER) from Telegram Data\n",
    "* To fine-tune an NER model for Amharic using your Telegram data, here's a step-by-step approach:"
   ]
  },
  {
   "cell_type": "markdown",
   "id": "13a95b03-2fe9-4f9f-bbbd-8300325f74bd",
   "metadata": {},
   "source": [
    "# 1. Data Preparation\n",
    "* First, we'll need to extract and structure the relevant information from our Excel data:"
   ]
  },
  {
   "cell_type": "code",
   "execution_count": 1,
   "id": "d70741a2-5540-4d9d-abd5-ae1590762f90",
   "metadata": {},
   "outputs": [],
   "source": [
    "import pandas as pd\n",
    "\n",
    "# Load the Excel file\n",
    "df = pd.read_excel('telegram_data.xlsx')\n",
    "\n",
    "# Extract messages with Amharic text\n",
    "amharic_messages = df[df['Message'].notna()]['Message'].tolist()"
   ]
  },
  {
   "cell_type": "markdown",
   "id": "25992d24-80b4-4aef-9eb1-9d574d4e19b5",
   "metadata": {},
   "source": [
    "# 2. Annotation Guidelines\n",
    "## Define our entity types based on what appears in our data:\n",
    "\n",
    "* Products (e.g., \"ሴራሚክ የላዛኛ መስሪያ\", \"የፀጉር ፔስትራ\")\n",
    "* Prices (e.g., \"1200 ብር\", \"500 ብር\")\n",
    "* Locations/Addresses (e.g., \"ስሪ ኤም ሲቲ ሞል ሁለተኛ ፎቅ\")\n",
    "* Phone numbers\n",
    "* Measurements (e.g., \"3ሜትር\", \"45ሳ.ሜ\")"
   ]
  },
  {
   "cell_type": "markdown",
   "id": "480a8563-905d-40a8-83a3-70cb1d549c75",
   "metadata": {},
   "source": [
    "# 3. Data Annotation\n",
    "* We'll need to annotate our data in BIO format.\n",
    "### For annotation, you can use tools like:\n",
    "* Doccano (open source)"
   ]
  },
  {
   "cell_type": "markdown",
   "id": "de497459-474c-4509-911e-bd2f70be187e",
   "metadata": {},
   "source": [
    "# 4. Model Selection\n",
    "### For Amharic NER, consider these options:"
   ]
  },
  {
   "cell_type": "markdown",
   "id": "e68a20c5-57de-40ca-95f1-87410c9fbd6f",
   "metadata": {},
   "source": [
    "## Option A: Use AfroXLMRoberta (better for African languages)"
   ]
  },
  {
   "cell_type": "code",
   "execution_count": 8,
   "id": "64ab45d9-b50c-4997-a2a8-07458ce2ca12",
   "metadata": {},
   "outputs": [],
   "source": [
    "model_name = \"Davlan/afro-xlmr-base\""
   ]
  },
  {
   "cell_type": "markdown",
   "id": "7bb05cb3-ebda-4e81-ba46-54553af74bcd",
   "metadata": {},
   "source": [
    "# 5. Training Code Example"
   ]
  },
  {
   "cell_type": "code",
   "execution_count": null,
   "id": "7cf37256-611b-4edf-9456-92792cf60230",
   "metadata": {},
   "outputs": [],
   "source": [
    "from transformers import pipeline, AutoTokenizer, AutoModelForTokenClassification\n",
    "from transformers import Trainer, TrainingArguments\n",
    "\n",
    "# Load tokenizer and model\n",
    "tokenizer = AutoTokenizer.from_pretrained(\"Davlan/afro-xlmr-base\")\n",
    "model = AutoModelForTokenClassification.from_pretrained(\"Davlan/afro-xlmr-base\", num_labels=num_labels)\n",
    "\n",
    "# Training arguments\n",
    "training_args = TrainingArguments(\n",
    "    output_dir='./results',\n",
    "    num_train_epochs=3,\n",
    "    per_device_train_batch_size=16,\n",
    "    save_steps=10_000,\n",
    "    save_total_limit=2,\n",
    "    learning_rate=2e-5,\n",
    ")\n",
    "\n",
    "# Create trainer\n",
    "trainer = Trainer(\n",
    "    model=model,\n",
    "    args=training_args,\n",
    "    train_dataset=train_dataset,\n",
    "    eval_dataset=eval_dataset,\n",
    ")\n",
    "\n",
    "# Start training\n",
    "trainer.train()"
   ]
  },
  {
   "cell_type": "markdown",
   "id": "e0b0b022-3ebd-42f5-8cdd-f135f36bb5fd",
   "metadata": {},
   "source": [
    "# 6. Preprocessing Recommendation"
   ]
  },
  {
   "cell_type": "code",
   "execution_count": null,
   "id": "ff1adaf4-9f2f-41aa-97e5-9bb46fff0175",
   "metadata": {},
   "outputs": [],
   "source": [
    "import re\n",
    "\n",
    "def preprocess_amharic_text(text):\n",
    "    # Normalize Ethiopic numbers if present\n",
    "    text = text.replace('፩', '1').replace('፪', '2') # etc for all Ethiopic numbers\n",
    "    \n",
    "    # Standardize price formats\n",
    "    text = re.sub(r'(\\d+)\\s*ብር', r'\\1 ብር', text)\n",
    "    \n",
    "    # Remove excessive whitespace and line breaks\n",
    "    text = ' '.join(text.split())\n",
    "    \n",
    "    return text"
   ]
  }
 ],
 "metadata": {
  "kernelspec": {
   "display_name": "Python 3 (ipykernel)",
   "language": "python",
   "name": "python3"
  },
  "language_info": {
   "codemirror_mode": {
    "name": "ipython",
    "version": 3
   },
   "file_extension": ".py",
   "mimetype": "text/x-python",
   "name": "python",
   "nbconvert_exporter": "python",
   "pygments_lexer": "ipython3",
   "version": "3.12.7"
  }
 },
 "nbformat": 4,
 "nbformat_minor": 5
}
