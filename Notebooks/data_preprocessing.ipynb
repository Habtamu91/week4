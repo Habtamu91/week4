{
 "cells": [
  {
   "cell_type": "code",
   "execution_count": 1,
   "id": "3f4e397f-6e49-45a1-90f2-9e7cc1ce4180",
   "metadata": {},
   "outputs": [
    {
     "name": "stdout",
     "output_type": "stream",
     "text": [
      "Cleaning messages...\n",
      "✅ Preprocessing complete. Saved labeled token file to: amharic_ner_tokens_for_labeling.csv\n"
     ]
    }
   ],
   "source": [
    "# task1_data_preprocessing.ipynb\n",
    "# Amharic Telegram Data Preprocessing for NER\n",
    "\n",
    "import pandas as pd\n",
    "import re\n",
    "\n",
    "# Load raw Telegram Excel data (replace with your file if running locally)\n",
    "telegram_data_path = \"telegram_data.xlsx\"\n",
    "df = pd.read_excel(telegram_data_path)\n",
    "\n",
    "# Drop rows with no message content\n",
    "if \"Message\" in df.columns:\n",
    "    df = df.dropna(subset=[\"Message\"]).copy()\n",
    "else:\n",
    "    raise ValueError(\"Expected 'Message' column not found in the dataset.\")\n",
    "\n",
    "# Function to clean Amharic Telegram messages\n",
    "def clean_amharic_text(text):\n",
    "    text = str(text)\n",
    "    text = re.sub(r\"http\\S+|www\\S+|t.me\\S+\", \"\", text)      # Remove URLs\n",
    "    text = re.sub(r\"@[A-Za-z0-9_]+\", \"\", text)                # Remove mentions\n",
    "    text = re.sub(r\"#[\\u1200-\\u137F\\w]+\", \"\", text)         # Remove hashtags\n",
    "    text = re.sub(r\"[A-Za-z0-9]+\", \"\", text)                 # Remove Latin letters/numbers\n",
    "    text = re.sub(r\"[\\U00010000-\\U0010ffff]\", \"\", text)      # Remove emojis\n",
    "    text = re.sub(r\"\\s+\", \" \", text).strip()                # Normalize whitespace\n",
    "    return text\n",
    "\n",
    "# Apply cleaning\n",
    "print(\"Cleaning messages...\")\n",
    "df[\"Cleaned_Message\"] = df[\"Message\"].apply(clean_amharic_text)\n",
    "\n",
    "# Remove empty cleaned messages\n",
    "df = df[df[\"Cleaned_Message\"] != \"\"]\n",
    "\n",
    "# Tokenize messages by whitespace (you can later replace this with more advanced tokenization)\n",
    "df[\"Tokens\"] = df[\"Cleaned_Message\"].apply(lambda x: x.split())\n",
    "\n",
    "# Save preprocessed tokens for manual NER labeling\n",
    "export_path = \"amharic_ner_tokens_for_labeling.csv\"\n",
    "exploded = df[[\"Cleaned_Message\", \"Tokens\"]].explode(\"Tokens\").reset_index(drop=True)\n",
    "exploded = exploded.rename(columns={\"Tokens\": \"Token\"})\n",
    "exploded[\"Label\"] = \"O\"  # Default label for manual tagging\n",
    "exploded[[\"Token\", \"Label\"]].to_csv(export_path, index=False)\n",
    "\n",
    "print(f\"✅ Preprocessing complete. Saved labeled token file to: {export_path}\")\n"
   ]
  }
 ],
 "metadata": {
  "kernelspec": {
   "display_name": "Python 3 (ipykernel)",
   "language": "python",
   "name": "python3"
  },
  "language_info": {
   "codemirror_mode": {
    "name": "ipython",
    "version": 3
   },
   "file_extension": ".py",
   "mimetype": "text/x-python",
   "name": "python",
   "nbconvert_exporter": "python",
   "pygments_lexer": "ipython3",
   "version": "3.12.7"
  }
 },
 "nbformat": 4,
 "nbformat_minor": 5
}
