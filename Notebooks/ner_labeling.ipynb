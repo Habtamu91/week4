{
 "cells": [
  {
   "cell_type": "code",
   "execution_count": 1,
   "id": "56adacf6-e2f0-4bca-99ed-2b83d272d571",
   "metadata": {},
   "outputs": [
    {
     "name": "stdout",
     "output_type": "stream",
     "text": [
      "Label Distribution:\n",
      "Label\n",
      "O    120032\n",
      "Name: count, dtype: int64\n",
      "\n",
      "✅ CoNLL file saved as ner_data.conll\n"
     ]
    }
   ],
   "source": [
    "# task2_ner_labeling.ipynb\n",
    "# Converts labeled Amharic tokens into CoNLL format\n",
    "\n",
    "import pandas as pd\n",
    "\n",
    "# Load labeled CSV file\n",
    "data_path = \"amharic_ner_tokens_for_labeling.csv\"\n",
    "df = pd.read_csv(data_path)\n",
    "\n",
    "# Basic checks\n",
    "if \"Token\" not in df.columns or \"Label\" not in df.columns:\n",
    "    raise ValueError(\"The CSV must contain 'Token' and 'Label' columns.\")\n",
    "\n",
    "# Optional: Display label distribution\n",
    "label_counts = df[\"Label\"].value_counts()\n",
    "print(\"Label Distribution:\")\n",
    "print(label_counts)\n",
    "\n",
    "# Write to CoNLL format\n",
    "conll_path = \"ner_data.conll\"\n",
    "with open(conll_path, \"w\", encoding=\"utf-8\") as f:\n",
    "    for index, row in df.iterrows():\n",
    "        token = str(row[\"Token\"]).strip()\n",
    "        label = str(row[\"Label\"]).strip()\n",
    "\n",
    "        if token == \"\":\n",
    "            f.write(\"\\n\")  # Sentence separator\n",
    "        else:\n",
    "            f.write(f\"{token}\\t{label}\\n\")\n",
    "\n",
    "    f.write(\"\\n\")  # Final newline\n",
    "\n",
    "print(f\"\\n✅ CoNLL file saved as {conll_path}\")\n"
   ]
  }
 ],
 "metadata": {
  "kernelspec": {
   "display_name": "Python 3 (ipykernel)",
   "language": "python",
   "name": "python3"
  },
  "language_info": {
   "codemirror_mode": {
    "name": "ipython",
    "version": 3
   },
   "file_extension": ".py",
   "mimetype": "text/x-python",
   "name": "python",
   "nbconvert_exporter": "python",
   "pygments_lexer": "ipython3",
   "version": "3.12.7"
  }
 },
 "nbformat": 4,
 "nbformat_minor": 5
}
